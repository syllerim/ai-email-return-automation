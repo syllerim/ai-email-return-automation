{
  "nbformat": 4,
  "nbformat_minor": 0,
  "metadata": {
    "colab": {
      "provenance": [],
      "collapsed_sections": [
        "W6MchRFGtFmB",
        "M49UiYRntRR8"
      ],
      "toc_visible": true,
      "authorship_tag": "ABX9TyPVI7Jy6dSDxOGghFkHKeMy",
      "include_colab_link": true
    },
    "kernelspec": {
      "name": "python3",
      "display_name": "Python 3"
    },
    "language_info": {
      "name": "python"
    }
  },
  "cells": [
    {
      "cell_type": "markdown",
      "metadata": {
        "id": "view-in-github",
        "colab_type": "text"
      },
      "source": [
        "<a href=\"https://colab.research.google.com/github/syllerim/ai-email-return-automation/blob/main/Assignment.ipynb\" target=\"_parent\"><img src=\"https://colab.research.google.com/assets/colab-badge.svg\" alt=\"Open In Colab\"/></a>"
      ]
    },
    {
      "cell_type": "markdown",
      "source": [
        "# 🤖 AI Use Cases Assignment 📬"
      ],
      "metadata": {
        "id": "NIfD1URsSR0g"
      }
    },
    {
      "cell_type": "markdown",
      "source": [
        "## 📦 Dependencies"
      ],
      "metadata": {
        "id": "SJHjvSqc_HXF"
      }
    },
    {
      "cell_type": "code",
      "source": [
        "!ls -la"
      ],
      "metadata": {
        "id": "eqsoUbOZSRUa",
        "colab": {
          "base_uri": "https://localhost:8080/"
        },
        "outputId": "17ef1fef-5dc4-4c05-e4ec-fb0c07eca2cc"
      },
      "execution_count": 1,
      "outputs": [
        {
          "output_type": "stream",
          "name": "stdout",
          "text": [
            "total 24\n",
            "drwxr-xr-x 1 root root 4096 May 10 08:25 .\n",
            "drwxr-xr-x 1 root root 4096 May 10 06:22 ..\n",
            "drwxr-xr-x 4 root root 4096 May  8 13:38 .config\n",
            "-rw-r--r-- 1 root root  179 May 10 08:27 .env\n",
            "drwxr-xr-x 2 root root 4096 May 10 08:25 .ipynb_checkpoints\n",
            "drwxr-xr-x 1 root root 4096 May  8 13:38 sample_data\n"
          ]
        }
      ]
    },
    {
      "cell_type": "code",
      "source": [
        "# install dependencies\n",
        "\n",
        "!pip install -q langchain langchain-openai openai python-dotenv"
      ],
      "metadata": {
        "id": "uTt9o-V5UAHB"
      },
      "execution_count": 2,
      "outputs": []
    },
    {
      "cell_type": "code",
      "source": [
        "# import dependencies\n",
        "\n",
        "import os\n",
        "\n",
        "from dotenv import load_dotenv\n",
        "from langchain_openai import ChatOpenAI\n",
        "from langchain.output_parsers import ResponseSchema, StructuredOutputParser\n",
        "from langchain.prompts import ChatPromptTemplate"
      ],
      "metadata": {
        "id": "T5njo8bf6X_d"
      },
      "execution_count": 3,
      "outputs": []
    },
    {
      "cell_type": "code",
      "source": [
        "# load `.env` variables from `.env` file\n",
        "\n",
        "load_dotenv(\".env\")\n",
        "\n",
        "# access the .env key\n",
        "# print(os.getenv(\"OPENAI_API_KEY\"))\n",
        "\n",
        "# or check the entire .env\n",
        "# !cat .env"
      ],
      "metadata": {
        "colab": {
          "base_uri": "https://localhost:8080/"
        },
        "id": "Th2X7D9qS6bC",
        "outputId": "6024abcd-02e3-4e1e-df50-5328dbcfc0fa"
      },
      "execution_count": 4,
      "outputs": [
        {
          "output_type": "execute_result",
          "data": {
            "text/plain": [
              "True"
            ]
          },
          "metadata": {},
          "execution_count": 4
        }
      ]
    },
    {
      "cell_type": "code",
      "source": [
        "# create LLM instance\n",
        "\n",
        "llm = ChatOpenAI(model=\"gpt-4o\", temperature=0)"
      ],
      "metadata": {
        "id": "tWz4z-Ruw3xX"
      },
      "execution_count": 5,
      "outputs": []
    },
    {
      "cell_type": "markdown",
      "source": [
        "## 👓 Read and Analyze Email Request"
      ],
      "metadata": {
        "id": "KYN9wUg6Xbgt"
      }
    },
    {
      "cell_type": "markdown",
      "source": [
        "### Pipeline"
      ],
      "metadata": {
        "id": "OAwsAOy08mft"
      }
    },
    {
      "cell_type": "code",
      "source": [
        "def process_email(\n",
        "    llm,\n",
        "    format_instructions,\n",
        "    parser,\n",
        "    customer_email_example,\n",
        "    email_template,\n",
        "    reply_template\n",
        ") -> str:\n",
        "    \"\"\"\n",
        "    Procesa un email de solicitud de devolución de forma automática.\n",
        "\n",
        "    El flujo incluye tres pasos:\n",
        "\n",
        "    1. Extrae la información relevante del email usando LangChain:\n",
        "        - nombre del cliente\n",
        "        - email del cliente\n",
        "        - número de pedido\n",
        "        - identificador del producto\n",
        "        - si se mencionan imágenes o documentos adjuntos\n",
        "        - resumen del motivo de la solicitud\n",
        "        - motivo exacto de la devolución\n",
        "\n",
        "    2. Evalúa el motivo de la devolución y decide si debe aceptarse o rechazarse,\n",
        "       en función de las siguientes condiciones:\n",
        "       ☑️ Aceptar: defecto de fabricación, error en el suministro, producto incompleto\n",
        "       ❌ Rechazar: daño durante transporte, manipulación indebida, fuera de plazo\n",
        "\n",
        "    3. Genera una respuesta automática formal y empática utilizando la información extraída y las reglas de negocio.\n",
        "\n",
        "    Args:\n",
        "        llm: Instancia de ChatOpenAI ya configurada.\n",
        "        format_instructions: Instrucciones de formato para el parser.\n",
        "        parser: Instancia de StructuredOutputParser.\n",
        "        customer_email_example: Texto del email del cliente a procesar.\n",
        "        email_template: Prompt para extraer la información del email.\n",
        "        reply_template: Prompt para generar la respuesta final.\n",
        "\n",
        "    Returns:\n",
        "        str: Texto del email de respuesta generado por el modelo.\n",
        "    \"\"\"\n",
        "    # data extraction\n",
        "    extract_prompt = ChatPromptTemplate.from_template(email_template)\n",
        "    extract_messages = extract_prompt.format_messages(\n",
        "        text=customer_email_example,\n",
        "        format_instructions=format_instructions\n",
        "    )\n",
        "    extract_response = llm.invoke(extract_messages)\n",
        "    extracted_parsed_data = parser.parse(extract_response.content)\n",
        "\n",
        "    # show the parsed data\n",
        "    print(\"\\n\")\n",
        "    print(extracted_parsed_data)\n",
        "\n",
        "    # answer generation\n",
        "    reply_prompt = ChatPromptTemplate.from_template(reply_template)\n",
        "    reply_messages = reply_prompt.format_messages(**extracted_parsed_data)\n",
        "\n",
        "    # this is the same as doing it explicitly, because I am passing the same dict\n",
        "    # reply_messages = reply_prompt.format_messages(\n",
        "    #     customer_name=parsed_output[\"customer_name\"],\n",
        "    #     customer_email=parsed_output[\"customer_email\"],\n",
        "    #     order_number=parsed_output[\"order_number\"],\n",
        "    #     product_identifier=parsed_output[\"product_identifier\"],\n",
        "    #     email_attachments=parsed_output[\"email_attachments\"],\n",
        "    #     email_subject=parsed_output[\"email_subject\"],\n",
        "    #     email_reason_details=parsed_output[\"email_reason_details\"]\n",
        "    # )\n",
        "\n",
        "    final_reply_email = llm.invoke(reply_messages)\n",
        "\n",
        "    return final_reply_email.content.strip()"
      ],
      "metadata": {
        "id": "BTFUJ3l98lTi"
      },
      "execution_count": 6,
      "outputs": []
    },
    {
      "cell_type": "markdown",
      "source": [
        "### Template definitions"
      ],
      "metadata": {
        "id": "W6MchRFGtFmB"
      }
    },
    {
      "cell_type": "code",
      "source": [
        "# create the prompt to extract the info from email. Format it by injecting the email text and formatting instructions\n",
        "\n",
        "email_template = \"\"\"Para siguiente texto correo electrónico de cliente, extrae siguiente información:\n",
        "\n",
        "customer_name: Nombre del cliente que firma el correo.\n",
        "customer_email: Email del cliente.\n",
        "order_number: Número de pedido mencionado en el email.\n",
        "product_identifier: Identificador del producto.\n",
        "email_attachments: ¿Se mencionan imágenes o documentos adjuntos? Responder 'Sí' o 'No'.\n",
        "email_subject: Resumen breve del motivo de la solicitud.\n",
        "email_reason_details: ¿Cuál es el motivo exacto de la devolución según las categorías definidas?\n",
        "- Defecto de fabricación confirmado\n",
        "- Error en el suministro\n",
        "- Producto incompleto o faltante\n",
        "- Daño durante transporte\n",
        "- Manipulación indebida\n",
        "- Fuera de plazo\n",
        "\n",
        "Original email: {text}\n",
        "\n",
        "{format_instructions}\n",
        "\"\"\""
      ],
      "metadata": {
        "id": "tzsQci1etp7v"
      },
      "execution_count": 7,
      "outputs": []
    },
    {
      "cell_type": "code",
      "source": [
        "# build the service reply based on extracted data\n",
        "\n",
        "reply_template = \"\"\"Redacta una respuesta formal, clara y empática por parte del equipo de Componentes Intergalácticos Industriales S.A. a un cliente que ha enviado una solicitud de devolución.\n",
        "\n",
        "Escríbela directamente como si fuera un email al cliente.\n",
        "\n",
        "Ten en cuenta esta información:\n",
        "\n",
        "- Nombre del cliente: {customer_name}\n",
        "- Email del cliente: {customer_email}\n",
        "- Número de pedido: {order_number}\n",
        "- Identificador del producto: {product_identifier}\n",
        "- Se mencionan imágenes o documentos adjuntos: {email_attachments}\n",
        "- Resumen del motivo de la solicitud: {email_subject}\n",
        "\n",
        "Si el motivo de devolución es uno de estos:\n",
        "✅ \"Defecto de fabricación confirmado\", \"Error en el suministro\", \"Producto incompleto o faltante\", entonces la respuesta debe aceptar la devolución.\n",
        "\n",
        "Si el motivo es uno de estos:\n",
        "❌ \"Daño durante transporte\", \"Manipulación indebida\", \"Fuera de plazo\", la respuesta debe rechazar la devolución amablemente explicando el porqué.\n",
        "\n",
        "Firmal atentamente de nuestra parte.\n",
        "\"\"\""
      ],
      "metadata": {
        "id": "qlaKJLwZtJdG"
      },
      "execution_count": 8,
      "outputs": []
    },
    {
      "cell_type": "markdown",
      "source": [
        "### Extract Data and Processs it"
      ],
      "metadata": {
        "id": "M49UiYRntRR8"
      }
    },
    {
      "cell_type": "code",
      "source": [
        "# define fields to extract from the email\n",
        "\n",
        "customer_name_schema = ResponseSchema(\n",
        "    name=\"customer_name\", description=\"Nombre del cliente que envía el email.\"\n",
        ")\n",
        "customer_email_schema = ResponseSchema(\n",
        "    name=\"customer_email\", description=\"Email del cliente.\"\n",
        ")\n",
        "order_number_schema = ResponseSchema(\n",
        "    name=\"order_number\", description=\"Número de pedido mencionado en el email.\"\n",
        ")\n",
        "product_identifier_schema = ResponseSchema(\n",
        "    name=\"product_identifier\", description=\"Identificador del producto.\"\n",
        ")\n",
        "email_attachments_schema = ResponseSchema(\n",
        "    name=\"email_attachments\", description=\"¿Se mencionan imágenes o documentos adjuntos? Responder 'Sí' o 'No'.\"\n",
        ")\n",
        "email_subject_schema = ResponseSchema(\n",
        "    name=\"email_subject\", description=\"Resumen breve del motivo de la solicitud.\"\n",
        ")\n",
        "email_reason_details_schema = ResponseSchema(\n",
        "    name=\"email_reason_details\", description=\"¿Cuál es el motivo exacto de la devolución según las categorías definidas?.\"\n",
        ")\n",
        "schemas = [\n",
        "    customer_name_schema,\n",
        "    customer_email_schema,\n",
        "    order_number_schema,\n",
        "    product_identifier_schema,\n",
        "    email_attachments_schema,\n",
        "    email_subject_schema,\n",
        "    email_reason_details_schema,\n",
        "]\n",
        "\n",
        "parser = StructuredOutputParser.from_response_schemas(schemas)\n",
        "format_instructions = parser.get_format_instructions()"
      ],
      "metadata": {
        "id": "ptGFzuhMXq7C"
      },
      "execution_count": 9,
      "outputs": []
    },
    {
      "cell_type": "markdown",
      "source": [
        "### Execution"
      ],
      "metadata": {
        "id": "iTd0ctjt4jnA"
      }
    },
    {
      "cell_type": "markdown",
      "source": [
        "**⛔️ Example of negative reply**"
      ],
      "metadata": {
        "id": "cVgakqK_-sOB"
      }
    },
    {
      "cell_type": "code",
      "source": [
        "# example of original customer email\n",
        "\n",
        "customer_email_example = \"\"\"\n",
        "Asunto: Solicitud de reemplazo por daños en transporte – Pedido #D347-STELLA\n",
        "\n",
        "Estimado equipo de Componentes Intergalácticos Industriales S.A.,\n",
        "\n",
        "Me pongo en contacto con ustedes como cliente reciente para comunicar una incidencia relacionada con el pedido #D347-STELLA, correspondiente a un lote de condensadores de fluzo modelo FX-88, destinados a un proyecto estratégico de gran envergadura: la construcción de la Estrella de la Muerte.\n",
        "\n",
        "Lamentablemente, al recibir el envío, observamos que varios de los condensadores presentaban daños visibles y no funcionales. Tras revisar el estado del embalaje y consultar con el piloto de carga, todo indica que la mercancía sufrió una caída durante el transporte interestelar.\n",
        "\n",
        "Dado que estos componentes son críticos para la activación del núcleo central del sistema de rayos destructores, les solicitamos con carácter urgente el reemplazo inmediato de las unidades defectuosas, así como una revisión de los protocolos de embalaje y transporte para evitar que algo así vuelva a ocurrir.\n",
        "\n",
        "Adjunto imágenes del estado de los condensadores y el albarán de entrega sellado por nuestro droide de recepción.\n",
        "\n",
        "Agradezco de antemano su pronta atención a este asunto. Quedamos a la espera de su respuesta para coordinar el reemplazo.\n",
        "\n",
        "Atentamente,\n",
        "Darth Márquez\n",
        "Departamento de Ingeniería Imperial\n",
        "Sector de Proyectos Especiales\n",
        "Contacto: dmarquez@imperiumgalactic.net\n",
        "Holofono: +34 9X9 123 456”\n",
        "\"\"\""
      ],
      "metadata": {
        "id": "ifEKJyyg9Kw5"
      },
      "execution_count": 10,
      "outputs": []
    },
    {
      "cell_type": "code",
      "source": [
        "customer_service_reply = process_email(\n",
        "    llm,\n",
        "    format_instructions,\n",
        "    parser,\n",
        "    customer_email_example,\n",
        "    email_template,\n",
        "    reply_template\n",
        ")"
      ],
      "metadata": {
        "colab": {
          "base_uri": "https://localhost:8080/"
        },
        "id": "wRcQY5xu8P3G",
        "outputId": "dbd7b340-dd9a-4344-a731-29159e1d425d"
      },
      "execution_count": 11,
      "outputs": [
        {
          "output_type": "stream",
          "name": "stdout",
          "text": [
            "\n",
            "\n",
            "{'customer_name': 'Darth Márquez', 'customer_email': 'dmarquez@imperiumgalactic.net', 'order_number': 'D347-STELLA', 'product_identifier': 'FX-88', 'email_attachments': 'Sí', 'email_subject': 'Solicitud de reemplazo por daños en transporte', 'email_reason_details': 'Daño durante transporte'}\n"
          ]
        }
      ]
    },
    {
      "cell_type": "code",
      "source": [
        "customer_service_reply"
      ],
      "metadata": {
        "colab": {
          "base_uri": "https://localhost:8080/",
          "height": 86
        },
        "id": "WNbD0Moa9oJh",
        "outputId": "ec4381bc-0a86-40d7-8b37-6d052cdb1870"
      },
      "execution_count": 12,
      "outputs": [
        {
          "output_type": "execute_result",
          "data": {
            "text/plain": [
              "'Asunto: Respuesta a su Solicitud de Devolución - Pedido D347-STELLA\\n\\nEstimado Darth Márquez,\\n\\nEsperamos que este mensaje le encuentre bien. Agradecemos que se haya puesto en contacto con nosotros y nos haya proporcionado la información detallada sobre su solicitud de devolución del producto FX-88, correspondiente al pedido número D347-STELLA.\\n\\nHemos revisado cuidadosamente su solicitud y los documentos adjuntos que nos ha enviado. Entendemos que el motivo de su solicitud es el daño sufrido por el producto durante el transporte. Lamentablemente, según nuestra política de devoluciones, no podemos aceptar devoluciones por daños ocurridos durante el transporte, ya que estos incidentes deben ser gestionados directamente con la empresa de transporte responsable.\\n\\nSin embargo, queremos ofrecerle nuestro apoyo en este proceso. Le recomendamos que se comunique con la empresa de transporte para presentar una reclamación por los daños sufridos. Si necesita cualquier tipo de documentación adicional o asistencia de nuestra parte para facilitar este trámite, no dude en hacérnoslo saber. Estamos aquí para ayudarle en lo que necesite.\\n\\nLamentamos sinceramente cualquier inconveniente que esta situación pueda haberle causado y agradecemos su comprensión y paciencia. Valoramos su confianza en Componentes Intergalácticos Industriales S.A. y esperamos poder servirle mejor en el futuro.\\n\\nQuedamos a su disposición para cualquier otra consulta o asistencia que pueda requerir.\\n\\nAtentamente,\\n\\nEquipo de Atención al Cliente  \\nComponentes Intergalácticos Industriales S.A.  \\n[Email de contacto]  \\n[Teléfono de contacto]'"
            ],
            "application/vnd.google.colaboratory.intrinsic+json": {
              "type": "string"
            }
          },
          "metadata": {},
          "execution_count": 12
        }
      ]
    },
    {
      "cell_type": "markdown",
      "source": [
        "**➕ Example of positive reply**"
      ],
      "metadata": {
        "id": "Eo9FDSK5_BPe"
      }
    },
    {
      "cell_type": "code",
      "source": [
        "# example of original customer email\n",
        "\n",
        "customer_email_defecto_fabricacion = \"\"\"\n",
        "Asunto: Solicitud de reemplazo por defecto de fabricación – Pedido #X102-MDA458\n",
        "\n",
        "Estimado equipo de Componentes Intergalácticos Industriales S.A.,\n",
        "\n",
        "Me pongo en contacto con ustedes desde el Departamento de MarviWorld para notificar un problema relacionado con el pedido #X102-MDA458, correspondiente a un lote de cristales de calibración quántica KJU-7, adquiridos recientemente para la nueva generación de sistemas de navegación inercial de rovers.\n",
        "\n",
        "Al realizar las primeras pruebas de integración, detectamos fallos recurrentes en el rendimiento de algunos sensores, específicamente en el sistema de redundancia aeroespacial. Tras un análisis técnico interno, concluimos que se trata de un defecto de fabricación, ya que los fallos son consistentes y no atribuibles al montaje o a condiciones externas.\n",
        "\n",
        "Dado que estos componentes son esenciales para garantizar la maniobrabilidad y seguridad de nuestros rovers, solicitamos el reemplazo urgente de los lotes defectuosos, así como una evaluación de calidad por parte de su equipo técnico para evitar recurrencias en futuros lotes.\n",
        "\n",
        "Adjuntamos el informe técnico detallado junto con los números de serie de las unidades afectadas.\n",
        "\n",
        "Agradecemos su pronta atención y quedamos a la espera de instrucciones para coordinar el envío de las piezas de reemplazo.\n",
        "\n",
        "Atentamente,\n",
        "Comandante T. Voss\n",
        "Departamento de Ingeniería de MarviWorld\n",
        "Contacto: tvoss@marviworld.net\n",
        "Holofono: +34 9X9 987 451\n",
        "\"\"\"\n"
      ],
      "metadata": {
        "id": "wv4LC33K_fqb"
      },
      "execution_count": 13,
      "outputs": []
    },
    {
      "cell_type": "code",
      "source": [
        "customer_service_reply = process_email(\n",
        "    llm,\n",
        "    format_instructions,\n",
        "    parser,\n",
        "    customer_email_defecto_fabricacion,\n",
        "    email_template,\n",
        "    reply_template\n",
        ")"
      ],
      "metadata": {
        "colab": {
          "base_uri": "https://localhost:8080/"
        },
        "id": "ANhRkE4yBgnt",
        "outputId": "005def7c-dac4-4a6a-9421-0a5ed4b2261d"
      },
      "execution_count": 14,
      "outputs": [
        {
          "output_type": "stream",
          "name": "stdout",
          "text": [
            "\n",
            "\n",
            "{'customer_name': 'Comandante T. Voss', 'customer_email': 'tvoss@marviworld.net', 'order_number': 'X102-MDA458', 'product_identifier': 'KJU-7', 'email_attachments': 'Sí', 'email_subject': 'Solicitud de reemplazo por defecto de fabricación', 'email_reason_details': 'Defecto de fabricación confirmado'}\n"
          ]
        }
      ]
    },
    {
      "cell_type": "code",
      "source": [
        "customer_service_reply"
      ],
      "metadata": {
        "colab": {
          "base_uri": "https://localhost:8080/",
          "height": 86
        },
        "id": "92X3EyrIBjjk",
        "outputId": "942be510-c0af-467c-d8ec-34330f777ab6"
      },
      "execution_count": 15,
      "outputs": [
        {
          "output_type": "execute_result",
          "data": {
            "text/plain": [
              "'Asunto: Confirmación de Devolución para el Pedido X102-MDA458\\n\\nEstimado Comandante T. Voss,\\n\\nEsperamos que este mensaje le encuentre bien. Nos dirigimos a usted en respuesta a su solicitud de devolución relacionada con el pedido número X102-MDA458, específicamente sobre el producto identificado como KJU-7.\\n\\nEn primer lugar, queremos agradecerle por proporcionarnos las imágenes y documentos adjuntos que nos han permitido evaluar su caso de manera detallada. Tras una revisión exhaustiva, hemos confirmado que el producto presenta un defecto de fabricación.\\n\\nPor lo tanto, nos complace informarle que su solicitud de devolución ha sido aceptada. Procederemos a gestionar el reemplazo del producto defectuoso a la mayor brevedad posible. Nuestro equipo de logística se pondrá en contacto con usted para coordinar los detalles del envío del nuevo producto y la recogida del artículo defectuoso.\\n\\nLamentamos sinceramente cualquier inconveniente que este problema haya podido causarle y agradecemos su comprensión y paciencia durante este proceso. En Componentes Intergalácticos Industriales S.A., nos esforzamos por ofrecer productos de la más alta calidad y un servicio al cliente excepcional, y su satisfacción es nuestra prioridad.\\n\\nSi tiene alguna pregunta adicional o necesita más asistencia, no dude en ponerse en contacto con nosotros. Estamos aquí para ayudarle.\\n\\nAtentamente,\\n\\n[Nombre del Representante]  \\nEquipo de Atención al Cliente  \\nComponentes Intergalácticos Industriales S.A.  \\n[Teléfono de contacto]  \\n[Correo electrónico de contacto]'"
            ],
            "application/vnd.google.colaboratory.intrinsic+json": {
              "type": "string"
            }
          },
          "metadata": {},
          "execution_count": 15
        }
      ]
    }
  ]
}